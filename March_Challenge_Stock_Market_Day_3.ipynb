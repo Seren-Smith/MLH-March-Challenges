{
  "nbformat": 4,
  "nbformat_minor": 0,
  "metadata": {
    "colab": {
      "name": "March Challenge - Stock Market - Day 3",
      "provenance": [],
      "authorship_tag": "ABX9TyPPo8kqLRYdbplaUJOE/n+q",
      "include_colab_link": true
    },
    "kernelspec": {
      "name": "python3",
      "display_name": "Python 3"
    },
    "language_info": {
      "name": "python"
    }
  },
  "cells": [
    {
      "cell_type": "markdown",
      "metadata": {
        "id": "view-in-github",
        "colab_type": "text"
      },
      "source": [
        "<a href=\"https://colab.research.google.com/github/Seren-Smith/hello-github-actions/blob/main/March_Challenge_Stock_Market_Day_3.ipynb\" target=\"_parent\"><img src=\"https://colab.research.google.com/assets/colab-badge.svg\" alt=\"Open In Colab\"/></a>"
      ]
    },
    {
      "cell_type": "code",
      "metadata": {
        "id": "0UOdX6d6-rtr"
      },
      "source": [
        "import math\n",
        "import pandas_datareader as web\n",
        "import numpy as np\n",
        "import pandas as pd\n",
        "from sklearn.preprocessing import MinMaxScaler\n",
        "from keras.models import Sequential\n",
        "from keras.layers import Dense, LSTM\n",
        "import matplotlib.pyplot as plt\n",
        "plt.style.use('fivethirtyeight')"
      ],
      "execution_count": null,
      "outputs": []
    },
    {
      "cell_type": "code",
      "metadata": {
        "colab": {
          "base_uri": "https://localhost:8080/",
          "height": 446
        },
        "id": "4gXw8ktM_sbq",
        "outputId": "6c822441-aa3b-4761-b9d1-de9755dd9eb2"
      },
      "source": [
        "# Get some data!!\n",
        "df = web.DataReader('AAPL', data_source = 'yahoo', start = '2013-01-01', end = '2021-03-03')\n",
        "df"
      ],
      "execution_count": null,
      "outputs": [
        {
          "output_type": "execute_result",
          "data": {
            "text/html": [
              "<div>\n",
              "<style scoped>\n",
              "    .dataframe tbody tr th:only-of-type {\n",
              "        vertical-align: middle;\n",
              "    }\n",
              "\n",
              "    .dataframe tbody tr th {\n",
              "        vertical-align: top;\n",
              "    }\n",
              "\n",
              "    .dataframe thead th {\n",
              "        text-align: right;\n",
              "    }\n",
              "</style>\n",
              "<table border=\"1\" class=\"dataframe\">\n",
              "  <thead>\n",
              "    <tr style=\"text-align: right;\">\n",
              "      <th></th>\n",
              "      <th>High</th>\n",
              "      <th>Low</th>\n",
              "      <th>Open</th>\n",
              "      <th>Close</th>\n",
              "      <th>Volume</th>\n",
              "      <th>Adj Close</th>\n",
              "    </tr>\n",
              "    <tr>\n",
              "      <th>Date</th>\n",
              "      <th></th>\n",
              "      <th></th>\n",
              "      <th></th>\n",
              "      <th></th>\n",
              "      <th></th>\n",
              "      <th></th>\n",
              "    </tr>\n",
              "  </thead>\n",
              "  <tbody>\n",
              "    <tr>\n",
              "      <th>2013-01-02</th>\n",
              "      <td>19.821428</td>\n",
              "      <td>19.343929</td>\n",
              "      <td>19.779285</td>\n",
              "      <td>19.608213</td>\n",
              "      <td>560518000.0</td>\n",
              "      <td>17.039789</td>\n",
              "    </tr>\n",
              "    <tr>\n",
              "      <th>2013-01-03</th>\n",
              "      <td>19.631071</td>\n",
              "      <td>19.321428</td>\n",
              "      <td>19.567142</td>\n",
              "      <td>19.360714</td>\n",
              "      <td>352965200.0</td>\n",
              "      <td>16.824715</td>\n",
              "    </tr>\n",
              "    <tr>\n",
              "      <th>2013-01-04</th>\n",
              "      <td>19.236786</td>\n",
              "      <td>18.779642</td>\n",
              "      <td>19.177500</td>\n",
              "      <td>18.821428</td>\n",
              "      <td>594333600.0</td>\n",
              "      <td>16.356062</td>\n",
              "    </tr>\n",
              "    <tr>\n",
              "      <th>2013-01-07</th>\n",
              "      <td>18.903570</td>\n",
              "      <td>18.400000</td>\n",
              "      <td>18.642857</td>\n",
              "      <td>18.710714</td>\n",
              "      <td>484156400.0</td>\n",
              "      <td>16.259851</td>\n",
              "    </tr>\n",
              "    <tr>\n",
              "      <th>2013-01-08</th>\n",
              "      <td>18.996071</td>\n",
              "      <td>18.616072</td>\n",
              "      <td>18.900356</td>\n",
              "      <td>18.761070</td>\n",
              "      <td>458707200.0</td>\n",
              "      <td>16.303608</td>\n",
              "    </tr>\n",
              "    <tr>\n",
              "      <th>...</th>\n",
              "      <td>...</td>\n",
              "      <td>...</td>\n",
              "      <td>...</td>\n",
              "      <td>...</td>\n",
              "      <td>...</td>\n",
              "      <td>...</td>\n",
              "    </tr>\n",
              "    <tr>\n",
              "      <th>2021-02-25</th>\n",
              "      <td>126.459999</td>\n",
              "      <td>120.540001</td>\n",
              "      <td>124.680000</td>\n",
              "      <td>120.989998</td>\n",
              "      <td>148199500.0</td>\n",
              "      <td>120.989998</td>\n",
              "    </tr>\n",
              "    <tr>\n",
              "      <th>2021-02-26</th>\n",
              "      <td>124.849998</td>\n",
              "      <td>121.199997</td>\n",
              "      <td>122.589996</td>\n",
              "      <td>121.260002</td>\n",
              "      <td>164320000.0</td>\n",
              "      <td>121.260002</td>\n",
              "    </tr>\n",
              "    <tr>\n",
              "      <th>2021-03-01</th>\n",
              "      <td>127.930000</td>\n",
              "      <td>122.790001</td>\n",
              "      <td>123.750000</td>\n",
              "      <td>127.790001</td>\n",
              "      <td>115998300.0</td>\n",
              "      <td>127.790001</td>\n",
              "    </tr>\n",
              "    <tr>\n",
              "      <th>2021-03-02</th>\n",
              "      <td>128.720001</td>\n",
              "      <td>125.010002</td>\n",
              "      <td>128.410004</td>\n",
              "      <td>125.120003</td>\n",
              "      <td>102015300.0</td>\n",
              "      <td>125.120003</td>\n",
              "    </tr>\n",
              "    <tr>\n",
              "      <th>2021-03-03</th>\n",
              "      <td>125.709999</td>\n",
              "      <td>121.839996</td>\n",
              "      <td>124.809998</td>\n",
              "      <td>122.059998</td>\n",
              "      <td>112430400.0</td>\n",
              "      <td>122.059998</td>\n",
              "    </tr>\n",
              "  </tbody>\n",
              "</table>\n",
              "<p>2056 rows × 6 columns</p>\n",
              "</div>"
            ],
            "text/plain": [
              "                  High         Low  ...       Volume   Adj Close\n",
              "Date                                ...                         \n",
              "2013-01-02   19.821428   19.343929  ...  560518000.0   17.039789\n",
              "2013-01-03   19.631071   19.321428  ...  352965200.0   16.824715\n",
              "2013-01-04   19.236786   18.779642  ...  594333600.0   16.356062\n",
              "2013-01-07   18.903570   18.400000  ...  484156400.0   16.259851\n",
              "2013-01-08   18.996071   18.616072  ...  458707200.0   16.303608\n",
              "...                ...         ...  ...          ...         ...\n",
              "2021-02-25  126.459999  120.540001  ...  148199500.0  120.989998\n",
              "2021-02-26  124.849998  121.199997  ...  164320000.0  121.260002\n",
              "2021-03-01  127.930000  122.790001  ...  115998300.0  127.790001\n",
              "2021-03-02  128.720001  125.010002  ...  102015300.0  125.120003\n",
              "2021-03-03  125.709999  121.839996  ...  112430400.0  122.059998\n",
              "\n",
              "[2056 rows x 6 columns]"
            ]
          },
          "metadata": {
            "tags": []
          },
          "execution_count": 3
        }
      ]
    },
    {
      "cell_type": "code",
      "metadata": {
        "colab": {
          "base_uri": "https://localhost:8080/",
          "height": 518
        },
        "id": "pXmIW73Q_-9e",
        "outputId": "4f66f547-c2f4-457c-8685-604a9342327a"
      },
      "source": [
        "plt.figure(figsize=(16, 8))\n",
        "plt.title(\"Price History\")\n",
        "plt.xlabel(\"Time\", fontsize = 18)\n",
        "plt.ylabel(\"Price\", fontsize = 18)\n",
        "plt.plot(df['Close'])\n",
        "plt.show()"
      ],
      "execution_count": null,
      "outputs": [
        {
          "output_type": "display_data",
          "data": {
            "image/png": "[encoded data removed]",
            "text/plain": [
              "<Figure size 1152x576 with 1 Axes>"
            ]
          },
          "metadata": {
            "tags": [],
            "needs_background": "light"
          }
        }
      ]
    },
    {
      "cell_type": "code",
      "metadata": {
        "colab": {
          "base_uri": "https://localhost:8080/"
        },
        "id": "uZhqSCFlAp64",
        "outputId": "62cd127f-65ce-499d-d0ff-d2b2951a3b15"
      },
      "source": [
        "# Filter to just the close column\n",
        "data = df.filter(['Close'])\n",
        "# Convert data to numpy array\n",
        "dataset = data.values\n",
        "training_len = math.ceil(len(dataset) * 0.8)\n",
        "\n",
        "# Scale the data\n",
        "scaler = MinMaxScaler(feature_range = (0, 1))\n",
        "scaled_data = scaler.fit_transform(dataset)\n",
        "\n",
        "scaled_data"
      ],
      "execution_count": null,
      "outputs": [
        {
          "output_type": "execute_result",
          "data": {
            "text/plain": [
              "array([[0.04380933],\n",
              "       [0.04189388],\n",
              "       [0.03772025],\n",
              "       ...,\n",
              "       [0.88104864],\n",
              "       [0.86038502],\n",
              "       [0.83670306]])"
            ]
          },
          "metadata": {
            "tags": []
          },
          "execution_count": 15
        }
      ]
    },
    {
      "cell_type": "code",
      "metadata": {
        "colab": {
          "base_uri": "https://localhost:8080/"
        },
        "id": "nHdBq8a1Bzoe",
        "outputId": "48ab5cbb-ce46-4626-98f0-f3bd30eab266"
      },
      "source": [
        "# Create Training Data\n",
        "train_data = scaled_data[0:training_len, :]\n",
        "\n",
        "x_train = []\n",
        "y_train = []\n",
        "\n",
        "for i in range(60, training_len):\n",
        "  x_train.append(train_data[i - 60:i, 0]) # Get the data in the past 60 days for each iteration\n",
        "  y_train.append(train_data[i, 0]) # Get the data of that day\n",
        "\n",
        "  if i <= 60:\n",
        "    print(x_train)\n",
        "    print(y_train)\n",
        "    print()"
      ],
      "execution_count": null,
      "outputs": [
        {
          "output_type": "stream",
          "text": [
            "[array([0.04380933, 0.04189388, 0.03772025, 0.03686341, 0.03725313,\n",
            "       0.0349839 , 0.03675563, 0.03586838, 0.03074117, 0.02636576,\n",
            "       0.03194073, 0.03099821, 0.03025747, 0.03157589, 0.03412982,\n",
            "       0.01657569, 0.01364032, 0.0163905 , 0.0187233 , 0.01832529,\n",
            "       0.01795492, 0.01743805, 0.01431474, 0.01860446, 0.01846902,\n",
            "       0.02147349, 0.02334195, 0.02471012, 0.02138504, 0.02113904,\n",
            "       0.02102296, 0.01924571, 0.01919871, 0.01611963, 0.01534846,\n",
            "       0.01666137, 0.01444741, 0.01615279, 0.01493663, 0.01406045,\n",
            "       0.0110394 , 0.00815932, 0.01122458, 0.00970992, 0.0110698 ,\n",
            "       0.0113849 , 0.01308475, 0.01047554, 0.01045343, 0.0116005 ,\n",
            "       0.01468511, 0.01801849, 0.01767853, 0.01701239, 0.01719205,\n",
            "       0.01972941, 0.02019099, 0.01951658, 0.01701239, 0.01440871])]\n",
            "[0.010608216319641275]\n",
            "\n"
          ],
          "name": "stdout"
        }
      ]
    },
    {
      "cell_type": "code",
      "metadata": {
        "id": "12Os_ayAC2q7"
      },
      "source": [
        "# Convert NumPy\n",
        "x_train, y_train = np.array(x_train), np.array(y_train)\n",
        "\n",
        "# Reshape our Data\n",
        "x_train = np.reshape(x_train, (x_train.shape[0], x_train.shape[1], 1))\n",
        "\n",
        "# Build our LSTM Model\n",
        "model = Sequential()\n",
        "model.add(LSTM(50, return_sequences = True, input_shape = (x_train.shape[1], 1)))\n",
        "model.add(LSTM(50, return_sequences = False))\n",
        "\n",
        "# Densely Connected NN\n",
        "model.add(Dense(30))\n",
        "model.add(Dense(1))"
      ],
      "execution_count": null,
      "outputs": []
    },
    {
      "cell_type": "code",
      "metadata": {
        "colab": {
          "base_uri": "https://localhost:8080/"
        },
        "id": "lEP3jZ60E-0T",
        "outputId": "459ba85e-aa20-4bb1-a108-60d43ae31c6f"
      },
      "source": [
        "# Compile our Model\n",
        "model.compile(optimizer = \"rmsprop\", loss = \"mean_squared_error\")\n",
        "\n",
        "model.fit(x_train, y_train, batch_size = 1)"
      ],
      "execution_count": null,
      "outputs": [
        {
          "output_type": "stream",
          "text": [
            "1585/1585 [==============================] - 38s 22ms/step - loss: 7.9952e-04\n"
          ],
          "name": "stdout"
        },
        {
          "output_type": "execute_result",
          "data": {
            "text/plain": [
              "<tensorflow.python.keras.callbacks.History at 0x7fd28ab41210>"
            ]
          },
          "metadata": {
            "tags": []
          },
          "execution_count": 20
        }
      ]
    },
    {
      "cell_type": "code",
      "metadata": {
        "id": "MyL1CgM1Fq2K"
      },
      "source": [
        "test_data = scaled_data[training_len - 60:, :]\n",
        "\n",
        "x_test = []\n",
        "y_test = dataset[training_len:, :]\n",
        "\n",
        "for i in range(60, len(test_data)):\n",
        "  x_test.append(test_data[i - 60:i, :])\n",
        "\n",
        "# Reshape and convert to NumPy\n",
        "x_test = np.array(x_test)\n",
        "x_test = np.reshape(x_test, (x_test.shape[0], x_test.shape[1], 1))\n",
        "\n",
        "# Get Predictions\n",
        "pred = model.predict(x_test)\n",
        "pred = scaler.inverse_transform(pred)"
      ],
      "execution_count": null,
      "outputs": []
    },
    {
      "cell_type": "code",
      "metadata": {
        "colab": {
          "base_uri": "https://localhost:8080/"
        },
        "id": "KWP-wcugGfyG",
        "outputId": "7a597a1f-0aa4-4407-9888-cf0027da0095"
      },
      "source": [
        "# See total error in predictions\n",
        "rmse = np.sqrt(np.mean((pred - y_test) ** 2))\n",
        "rmse"
      ],
      "execution_count": null,
      "outputs": [
        {
          "output_type": "execute_result",
          "data": {
            "text/plain": [
              "4.991234005513446"
            ]
          },
          "metadata": {
            "tags": []
          },
          "execution_count": 29
        }
      ]
    },
    {
      "cell_type": "code",
      "metadata": {
        "colab": {
          "base_uri": "https://localhost:8080/",
          "height": 622
        },
        "id": "hlPaiemQHO9z",
        "outputId": "ca41070e-0ce3-4012-cd07-b9917beb66fa"
      },
      "source": [
        "# Set up some plot data\n",
        "train = data[:training_len]\n",
        "expected = data[training_len:]\n",
        "expected['Predictions'] = pred\n",
        "\n",
        "# Visualize outputs\n",
        "plt.figure(figsize=(16,8))\n",
        "plt.title(\"Price History\")\n",
        "plt.xlabel(\"Time\", fontsize = 18)\n",
        "plt.ylabel(\"Price\", fontsize = 18)\n",
        "plt.plot(train['Close'])\n",
        "plt.plot(expected[['Close', 'Predictions']])\n",
        "plt.legend([\"Training Value\", \"Expected Value\", \"Predicted Value\"])\n",
        "plt.show()"
      ],
      "execution_count": null,
      "outputs": [
        {
          "output_type": "stream",
          "text": [
            "/usr/local/lib/python3.7/dist-packages/ipykernel_launcher.py:4: SettingWithCopyWarning: \n",
            "A value is trying to be set on a copy of a slice from a DataFrame.\n",
            "Try using .loc[row_indexer,col_indexer] = value instead\n",
            "\n",
            "See the caveats in the documentation: https://pandas.pydata.org/pandas-docs/stable/user_guide/indexing.html#returning-a-view-versus-a-copy\n",
            "  after removing the cwd from sys.path.\n"
          ],
          "name": "stderr"
        },
        {
          "output_type": "display_data",
          "data": {
            "image/png": "[encoded data removed]",
            "text/plain": [
              "<Figure size 1152x576 with 1 Axes>"
            ]
          },
          "metadata": {
            "tags": [],
            "needs_background": "light"
          }
        }
      ]
    },
    {
      "cell_type": "code",
      "metadata": {
        "colab": {
          "base_uri": "https://localhost:8080/",
          "height": 446
        },
        "id": "uhYu00TFIO6y",
        "outputId": "c0be4610-ceb7-4f8d-ce69-7d1ad5dba672"
      },
      "source": [
        "expected"
      ],
      "execution_count": null,
      "outputs": [
        {
          "output_type": "execute_result",
          "data": {
            "text/html": [
              "<div>\n",
              "<style scoped>\n",
              "    .dataframe tbody tr th:only-of-type {\n",
              "        vertical-align: middle;\n",
              "    }\n",
              "\n",
              "    .dataframe tbody tr th {\n",
              "        vertical-align: top;\n",
              "    }\n",
              "\n",
              "    .dataframe thead th {\n",
              "        text-align: right;\n",
              "    }\n",
              "</style>\n",
              "<table border=\"1\" class=\"dataframe\">\n",
              "  <thead>\n",
              "    <tr style=\"text-align: right;\">\n",
              "      <th></th>\n",
              "      <th>Close</th>\n",
              "      <th>Predictions</th>\n",
              "    </tr>\n",
              "    <tr>\n",
              "      <th>Date</th>\n",
              "      <th></th>\n",
              "      <th></th>\n",
              "    </tr>\n",
              "  </thead>\n",
              "  <tbody>\n",
              "    <tr>\n",
              "      <th>2019-07-17</th>\n",
              "      <td>50.837502</td>\n",
              "      <td>54.017281</td>\n",
              "    </tr>\n",
              "    <tr>\n",
              "      <th>2019-07-18</th>\n",
              "      <td>51.415001</td>\n",
              "      <td>54.086628</td>\n",
              "    </tr>\n",
              "    <tr>\n",
              "      <th>2019-07-19</th>\n",
              "      <td>50.647499</td>\n",
              "      <td>54.205372</td>\n",
              "    </tr>\n",
              "    <tr>\n",
              "      <th>2019-07-22</th>\n",
              "      <td>51.805000</td>\n",
              "      <td>54.203888</td>\n",
              "    </tr>\n",
              "    <tr>\n",
              "      <th>2019-07-23</th>\n",
              "      <td>52.209999</td>\n",
              "      <td>54.335365</td>\n",
              "    </tr>\n",
              "    <tr>\n",
              "      <th>...</th>\n",
              "      <td>...</td>\n",
              "      <td>...</td>\n",
              "    </tr>\n",
              "    <tr>\n",
              "      <th>2021-02-25</th>\n",
              "      <td>120.989998</td>\n",
              "      <td>120.653427</td>\n",
              "    </tr>\n",
              "    <tr>\n",
              "      <th>2021-02-26</th>\n",
              "      <td>121.260002</td>\n",
              "      <td>119.376694</td>\n",
              "    </tr>\n",
              "    <tr>\n",
              "      <th>2021-03-01</th>\n",
              "      <td>127.790001</td>\n",
              "      <td>118.245010</td>\n",
              "    </tr>\n",
              "    <tr>\n",
              "      <th>2021-03-02</th>\n",
              "      <td>125.120003</td>\n",
              "      <td>118.346039</td>\n",
              "    </tr>\n",
              "    <tr>\n",
              "      <th>2021-03-03</th>\n",
              "      <td>122.059998</td>\n",
              "      <td>118.579277</td>\n",
              "    </tr>\n",
              "  </tbody>\n",
              "</table>\n",
              "<p>411 rows × 2 columns</p>\n",
              "</div>"
            ],
            "text/plain": [
              "                 Close  Predictions\n",
              "Date                               \n",
              "2019-07-17   50.837502    54.017281\n",
              "2019-07-18   51.415001    54.086628\n",
              "2019-07-19   50.647499    54.205372\n",
              "2019-07-22   51.805000    54.203888\n",
              "2019-07-23   52.209999    54.335365\n",
              "...                ...          ...\n",
              "2021-02-25  120.989998   120.653427\n",
              "2021-02-26  121.260002   119.376694\n",
              "2021-03-01  127.790001   118.245010\n",
              "2021-03-02  125.120003   118.346039\n",
              "2021-03-03  122.059998   118.579277\n",
              "\n",
              "[411 rows x 2 columns]"
            ]
          },
          "metadata": {
            "tags": []
          },
          "execution_count": 31
        }
      ]
    },
    {
      "cell_type": "code",
      "metadata": {
        "colab": {
          "base_uri": "https://localhost:8080/"
        },
        "id": "O_i4bU_VIO8x",
        "outputId": "4e5493f7-3d52-45f7-dd4c-365c5c96613d"
      },
      "source": [
        "quote = web.DataReader('AAPL', data_source = 'yahoo', start = '2013-01-01', end = '2021-03-03')\n",
        "new_df = quote.filter(['Close'])\n",
        "\n",
        "# Last 60 days of data\n",
        "last_60 = new_df[-60:]\n",
        "\n",
        "# Scale Data\n",
        "last_60_scaled = scaler.fit_transform(last_60)\n",
        "\n",
        "# Test data\n",
        "x_last_60 = []\n",
        "x_last_60.append(last_60_scaled)\n",
        "\n",
        "# Convert and reshape\n",
        "x_last_60 = np.array(x_last_60)\n",
        "x_last_60 = np.reshape(x_last_60, (x_last_60.shape[0], x_last_60.shape[1], 1))\n",
        "\n",
        "prediction_price = model.predict(x_last_60)\n",
        "prediction_price = scaler.inverse_transform(prediction_price)\n",
        "\n",
        "prediction_price"
      ],
      "execution_count": null,
      "outputs": [
        {
          "output_type": "execute_result",
          "data": {
            "text/plain": [
              "array([[125.266426]], dtype=float32)"
            ]
          },
          "metadata": {
            "tags": []
          },
          "execution_count": 33
        }
      ]
    }
  ]
}