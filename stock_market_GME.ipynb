{
  "nbformat": 4,
  "nbformat_minor": 0,
  "metadata": {
    "colab": {
      "name": "stock_market_GME.ipynb",
      "provenance": [],
      "authorship_tag": "ABX9TyNOoVpR2ksg3ftV2yCHi/zV",
      "include_colab_link": true
    },
    "kernelspec": {
      "name": "python3",
      "display_name": "Python 3"
    },
    "language_info": {
      "name": "python"
    }
  },
  "cells": [
    {
      "cell_type": "markdown",
      "metadata": {
        "id": "view-in-github",
        "colab_type": "text"
      },
      "source": [
        "<a href=\"https://colab.research.google.com/github/Seren-Smith/MLH-March-Challenges/blob/main/stock_market_GME.ipynb\" target=\"_parent\"><img src=\"https://colab.research.google.com/assets/colab-badge.svg\" alt=\"Open In Colab\"/></a>"
      ]
    },
    {
      "cell_type": "markdown",
      "metadata": {
        "id": "iLoUwz2KKSgJ"
      },
      "source": [
        "Doing a spin on MLH: March Challenge 3 surrounding the tumutulous \"GME\", as of March 23rd, 2021."
      ]
    },
    {
      "cell_type": "code",
      "metadata": {
        "id": "G6hS5k-RJqiQ"
      },
      "source": [
        "import math\n",
        "import pandas_datareader as web\n",
        "import numpy as np\n",
        "import pandas as pd\n",
        "from sklearn.preprocessing import MinMaxScaler\n",
        "from keras.models import Sequential\n",
        "from keras.layers import Dense, LSTM\n",
        "import matplotlib.pyplot as plt\n",
        "plt.style.use('fivethirtyeight')"
      ],
      "execution_count": 1,
      "outputs": []
    },
    {
      "cell_type": "code",
      "metadata": {
        "colab": {
          "base_uri": "https://localhost:8080/",
          "height": 428
        },
        "id": "sb1Euc1yJsfg",
        "outputId": "55d154da-0a6e-4e9c-fcac-287d25963184"
      },
      "source": [
        "# Get some data!!\n",
        "df = web.DataReader('GME', data_source = 'yahoo', start = '2013-01-01', end = '2021-03-23')\n",
        "df"
      ],
      "execution_count": 4,
      "outputs": [
        {
          "output_type": "execute_result",
          "data": {
            "text/html": [
              "<div>\n",
              "<style scoped>\n",
              "    .dataframe tbody tr th:only-of-type {\n",
              "        vertical-align: middle;\n",
              "    }\n",
              "\n",
              "    .dataframe tbody tr th {\n",
              "        vertical-align: top;\n",
              "    }\n",
              "\n",
              "    .dataframe thead th {\n",
              "        text-align: right;\n",
              "    }\n",
              "</style>\n",
              "<table border=\"1\" class=\"dataframe\">\n",
              "  <thead>\n",
              "    <tr style=\"text-align: right;\">\n",
              "      <th></th>\n",
              "      <th>High</th>\n",
              "      <th>Low</th>\n",
              "      <th>Open</th>\n",
              "      <th>Close</th>\n",
              "      <th>Volume</th>\n",
              "      <th>Adj Close</th>\n",
              "    </tr>\n",
              "    <tr>\n",
              "      <th>Date</th>\n",
              "      <th></th>\n",
              "      <th></th>\n",
              "      <th></th>\n",
              "      <th></th>\n",
              "      <th></th>\n",
              "      <th></th>\n",
              "    </tr>\n",
              "  </thead>\n",
              "  <tbody>\n",
              "    <tr>\n",
              "      <th>2013-01-02</th>\n",
              "      <td>25.870001</td>\n",
              "      <td>24.990000</td>\n",
              "      <td>25.580000</td>\n",
              "      <td>25.660000</td>\n",
              "      <td>4898100.0</td>\n",
              "      <td>17.929613</td>\n",
              "    </tr>\n",
              "    <tr>\n",
              "      <th>2013-01-03</th>\n",
              "      <td>25.690001</td>\n",
              "      <td>23.920000</td>\n",
              "      <td>25.580000</td>\n",
              "      <td>24.360001</td>\n",
              "      <td>10642800.0</td>\n",
              "      <td>17.021255</td>\n",
              "    </tr>\n",
              "    <tr>\n",
              "      <th>2013-01-04</th>\n",
              "      <td>25.170000</td>\n",
              "      <td>24.360001</td>\n",
              "      <td>24.420000</td>\n",
              "      <td>24.799999</td>\n",
              "      <td>4040000.0</td>\n",
              "      <td>17.328697</td>\n",
              "    </tr>\n",
              "    <tr>\n",
              "      <th>2013-01-07</th>\n",
              "      <td>24.920000</td>\n",
              "      <td>23.870001</td>\n",
              "      <td>24.660000</td>\n",
              "      <td>24.750000</td>\n",
              "      <td>3983900.0</td>\n",
              "      <td>17.293760</td>\n",
              "    </tr>\n",
              "    <tr>\n",
              "      <th>2013-01-08</th>\n",
              "      <td>23.959999</td>\n",
              "      <td>22.660000</td>\n",
              "      <td>22.930000</td>\n",
              "      <td>23.190001</td>\n",
              "      <td>11131200.0</td>\n",
              "      <td>16.203733</td>\n",
              "    </tr>\n",
              "    <tr>\n",
              "      <th>...</th>\n",
              "      <td>...</td>\n",
              "      <td>...</td>\n",
              "      <td>...</td>\n",
              "      <td>...</td>\n",
              "      <td>...</td>\n",
              "      <td>...</td>\n",
              "    </tr>\n",
              "    <tr>\n",
              "      <th>2021-03-17</th>\n",
              "      <td>231.470001</td>\n",
              "      <td>204.000000</td>\n",
              "      <td>217.839996</td>\n",
              "      <td>209.809998</td>\n",
              "      <td>16259300.0</td>\n",
              "      <td>209.809998</td>\n",
              "    </tr>\n",
              "    <tr>\n",
              "      <th>2021-03-18</th>\n",
              "      <td>218.880005</td>\n",
              "      <td>195.649994</td>\n",
              "      <td>214.000000</td>\n",
              "      <td>201.750000</td>\n",
              "      <td>11764900.0</td>\n",
              "      <td>201.750000</td>\n",
              "    </tr>\n",
              "    <tr>\n",
              "      <th>2021-03-19</th>\n",
              "      <td>227.000000</td>\n",
              "      <td>182.660004</td>\n",
              "      <td>195.729996</td>\n",
              "      <td>200.270004</td>\n",
              "      <td>24552100.0</td>\n",
              "      <td>200.270004</td>\n",
              "    </tr>\n",
              "    <tr>\n",
              "      <th>2021-03-22</th>\n",
              "      <td>210.360001</td>\n",
              "      <td>186.199997</td>\n",
              "      <td>205.259995</td>\n",
              "      <td>194.490005</td>\n",
              "      <td>10034400.0</td>\n",
              "      <td>194.490005</td>\n",
              "    </tr>\n",
              "    <tr>\n",
              "      <th>2021-03-23</th>\n",
              "      <td>201.750000</td>\n",
              "      <td>177.550003</td>\n",
              "      <td>197.500000</td>\n",
              "      <td>181.750000</td>\n",
              "      <td>10394580.0</td>\n",
              "      <td>181.750000</td>\n",
              "    </tr>\n",
              "  </tbody>\n",
              "</table>\n",
              "<p>2070 rows × 6 columns</p>\n",
              "</div>"
            ],
            "text/plain": [
              "                  High         Low  ...      Volume   Adj Close\n",
              "Date                                ...                        \n",
              "2013-01-02   25.870001   24.990000  ...   4898100.0   17.929613\n",
              "2013-01-03   25.690001   23.920000  ...  10642800.0   17.021255\n",
              "2013-01-04   25.170000   24.360001  ...   4040000.0   17.328697\n",
              "2013-01-07   24.920000   23.870001  ...   3983900.0   17.293760\n",
              "2013-01-08   23.959999   22.660000  ...  11131200.0   16.203733\n",
              "...                ...         ...  ...         ...         ...\n",
              "2021-03-17  231.470001  204.000000  ...  16259300.0  209.809998\n",
              "2021-03-18  218.880005  195.649994  ...  11764900.0  201.750000\n",
              "2021-03-19  227.000000  182.660004  ...  24552100.0  200.270004\n",
              "2021-03-22  210.360001  186.199997  ...  10034400.0  194.490005\n",
              "2021-03-23  201.750000  177.550003  ...  10394580.0  181.750000\n",
              "\n",
              "[2070 rows x 6 columns]"
            ]
          },
          "metadata": {
            "tags": []
          },
          "execution_count": 4
        }
      ]
    },
    {
      "cell_type": "code",
      "metadata": {
        "colab": {
          "base_uri": "https://localhost:8080/",
          "height": 518
        },
        "id": "qkrXDDLAJu_W",
        "outputId": "2a11856a-ab5b-4cce-df0a-9eb05e07aad4"
      },
      "source": [
        "plt.figure(figsize=(16, 8))\n",
        "plt.title(\"Price History\")\n",
        "plt.xlabel(\"Time\", fontsize = 18)\n",
        "plt.ylabel(\"Price\", fontsize = 18)\n",
        "plt.plot(df['Close'])\n",
        "plt.show()"
      ],
      "execution_count": 5,
      "outputs": [
        {
          "output_type": "display_data",
          "data": {
            "image/png": "[encoded data removed]",
            "text/plain": [
              "<Figure size 1152x576 with 1 Axes>"
            ]
          },
          "metadata": {
            "tags": [],
            "needs_background": "light"
          }
        }
      ]
    },
    {
      "cell_type": "code",
      "metadata": {
        "colab": {
          "base_uri": "https://localhost:8080/"
        },
        "id": "09HyavgJJ0C9",
        "outputId": "5bf53e40-6ae3-48e0-9262-afa9c4aad8f4"
      },
      "source": [
        "# Filter to just the close column\n",
        "data = df.filter(['Close'])\n",
        "# Convert data to numpy array\n",
        "dataset = data.values\n",
        "training_len = math.ceil(len(dataset) * 0.8)\n",
        "\n",
        "# Scale the data\n",
        "scaler = MinMaxScaler(feature_range = (0, 1))\n",
        "scaled_data = scaler.fit_transform(dataset)\n",
        "\n",
        "scaled_data"
      ],
      "execution_count": 6,
      "outputs": [
        {
          "output_type": "execute_result",
          "data": {
            "text/plain": [
              "array([[0.06631661],\n",
              "       [0.06254533],\n",
              "       [0.06382176],\n",
              "       ...,\n",
              "       [0.57285834],\n",
              "       [0.55609063],\n",
              "       [0.51913201]])"
            ]
          },
          "metadata": {
            "tags": []
          },
          "execution_count": 6
        }
      ]
    },
    {
      "cell_type": "code",
      "metadata": {
        "colab": {
          "base_uri": "https://localhost:8080/"
        },
        "id": "vSAe6zFxJ1SF",
        "outputId": "2e5cd64c-a4da-4c4e-e30f-b8a0657a1fde"
      },
      "source": [
        "# Create Training Data\n",
        "train_data = scaled_data[0:training_len, :]\n",
        "\n",
        "x_train = []\n",
        "y_train = []\n",
        "\n",
        "for i in range(60, training_len):\n",
        "  x_train.append(train_data[i - 60:i, 0]) # Get the data in the past 60 days for each iteration\n",
        "  y_train.append(train_data[i, 0]) # Get the data of that day\n",
        "\n",
        "  if i <= 60:\n",
        "    print(x_train)\n",
        "    print(y_train)\n",
        "    print()"
      ],
      "execution_count": 7,
      "outputs": [
        {
          "output_type": "stream",
          "text": [
            "[array([0.06631661, 0.06254533, 0.06382176, 0.06367671, 0.05915117,\n",
            "       0.0574686 , 0.05799078, 0.05932523, 0.05862899, 0.05906414,\n",
            "       0.05880305, 0.06002147, 0.05941226, 0.0595283 , 0.05903513,\n",
            "       0.05996344, 0.06065968, 0.06086275, 0.06155899, 0.06045661,\n",
            "       0.05918018, 0.06350265, 0.06512721, 0.06965275, 0.06498216,\n",
            "       0.06559136, 0.06747701, 0.06788315, 0.0668678 , 0.06738998,\n",
            "       0.0665777 , 0.06547533, 0.06585245, 0.06535929, 0.06361869,\n",
            "       0.06387978, 0.06327058, 0.06379275, 0.0650982 , 0.06457602,\n",
            "       0.06164602, 0.06016652, 0.06237126, 0.06269038, 0.06306751,\n",
            "       0.06344463, 0.06515622, 0.06579443, 0.0662876 , 0.06559136,\n",
            "       0.06570741, 0.06649067, 0.0650982 , 0.06570741, 0.0650982 ,\n",
            "       0.06631661, 0.06550433, 0.06834731, 0.0686084 , 0.0730179 ])]\n",
            "[0.0782106684142036]\n",
            "\n"
          ],
          "name": "stdout"
        }
      ]
    },
    {
      "cell_type": "code",
      "metadata": {
        "id": "FkSyBHtTJ2g7"
      },
      "source": [
        "# Convert NumPy\n",
        "x_train, y_train = np.array(x_train), np.array(y_train)\n",
        "\n",
        "# Reshape our Data\n",
        "x_train = np.reshape(x_train, (x_train.shape[0], x_train.shape[1], 1))\n",
        "\n",
        "# Build our LSTM Model\n",
        "model = Sequential()\n",
        "model.add(LSTM(50, return_sequences = True, input_shape = (x_train.shape[1], 1)))\n",
        "model.add(LSTM(50, return_sequences = False))\n",
        "\n",
        "# Densely Connected NN\n",
        "model.add(Dense(30))\n",
        "model.add(Dense(1))"
      ],
      "execution_count": 8,
      "outputs": []
    },
    {
      "cell_type": "code",
      "metadata": {
        "colab": {
          "base_uri": "https://localhost:8080/"
        },
        "id": "GGDIpQNrJ79k",
        "outputId": "e70cf339-8e94-486a-b4c3-ce599c758f09"
      },
      "source": [
        "# Compile our Model\n",
        "model.compile(optimizer = \"rmsprop\", loss = \"mean_squared_error\")\n",
        "\n",
        "model.fit(x_train, y_train, batch_size = 1)"
      ],
      "execution_count": 9,
      "outputs": [
        {
          "output_type": "stream",
          "text": [
            "1596/1596 [==============================] - 37s 21ms/step - loss: 2.8283e-04\n"
          ],
          "name": "stdout"
        },
        {
          "output_type": "execute_result",
          "data": {
            "text/plain": [
              "<tensorflow.python.keras.callbacks.History at 0x7f31b9f189d0>"
            ]
          },
          "metadata": {
            "tags": []
          },
          "execution_count": 9
        }
      ]
    },
    {
      "cell_type": "code",
      "metadata": {
        "id": "qrGYd4MqJ-D1"
      },
      "source": [
        "test_data = scaled_data[training_len - 60:, :]\n",
        "\n",
        "x_test = []\n",
        "y_test = dataset[training_len:, :]\n",
        "\n",
        "for i in range(60, len(test_data)):\n",
        "  x_test.append(test_data[i - 60:i, :])\n",
        "\n",
        "# Reshape and convert to NumPy\n",
        "x_test = np.array(x_test)\n",
        "x_test = np.reshape(x_test, (x_test.shape[0], x_test.shape[1], 1))\n",
        "\n",
        "# Get Predictions\n",
        "pred = model.predict(x_test)\n",
        "pred = scaler.inverse_transform(pred)"
      ],
      "execution_count": 10,
      "outputs": []
    },
    {
      "cell_type": "code",
      "metadata": {
        "colab": {
          "base_uri": "https://localhost:8080/"
        },
        "id": "YOUIY9k4J_jG",
        "outputId": "e0846571-2f84-457d-ee73-c9c2237448e4"
      },
      "source": [
        "# See total error in predictions\n",
        "rmse = np.sqrt(np.mean((pred - y_test) ** 2))\n",
        "rmse"
      ],
      "execution_count": 11,
      "outputs": [
        {
          "output_type": "execute_result",
          "data": {
            "text/plain": [
              "26.974699640638896"
            ]
          },
          "metadata": {
            "tags": []
          },
          "execution_count": 11
        }
      ]
    },
    {
      "cell_type": "code",
      "metadata": {
        "colab": {
          "base_uri": "https://localhost:8080/",
          "height": 625
        },
        "id": "7uqkSAt5KA--",
        "outputId": "e7453887-06a2-42b5-ec73-aa9d59adb81c"
      },
      "source": [
        "# Set up some plot data\n",
        "train = data[:training_len]\n",
        "expected = data[training_len:]\n",
        "expected['Predictions'] = pred\n",
        "\n",
        "# Visualize outputs\n",
        "plt.figure(figsize=(16,8))\n",
        "plt.title(\"Price History\")\n",
        "plt.xlabel(\"Time\", fontsize = 18)\n",
        "plt.ylabel(\"Price\", fontsize = 18)\n",
        "plt.plot(train['Close'])\n",
        "plt.plot(expected[['Close', 'Predictions']])\n",
        "plt.legend([\"Training Value\", \"Expected Value\", \"Predicted Value\"])\n",
        "plt.show()"
      ],
      "execution_count": 12,
      "outputs": [
        {
          "output_type": "stream",
          "text": [
            "/usr/local/lib/python3.7/dist-packages/ipykernel_launcher.py:4: SettingWithCopyWarning: \n",
            "A value is trying to be set on a copy of a slice from a DataFrame.\n",
            "Try using .loc[row_indexer,col_indexer] = value instead\n",
            "\n",
            "See the caveats in the documentation: https://pandas.pydata.org/pandas-docs/stable/user_guide/indexing.html#returning-a-view-versus-a-copy\n",
            "  after removing the cwd from sys.path.\n"
          ],
          "name": "stderr"
        },
        {
          "output_type": "display_data",
          "data": {
            "image/png": "[encoded data removed]",
            "text/plain": [
              "<Figure size 1152x576 with 1 Axes>"
            ]
          },
          "metadata": {
            "tags": [],
            "needs_background": "light"
          }
        }
      ]
    },
    {
      "cell_type": "code",
      "metadata": {
        "colab": {
          "base_uri": "https://localhost:8080/",
          "height": 428
        },
        "id": "GqXiOgfqKDxG",
        "outputId": "f4dfcced-8b1d-4d52-f092-b98ea3ebec23"
      },
      "source": [
        "expected"
      ],
      "execution_count": 13,
      "outputs": [
        {
          "output_type": "execute_result",
          "data": {
            "text/html": [
              "<div>\n",
              "<style scoped>\n",
              "    .dataframe tbody tr th:only-of-type {\n",
              "        vertical-align: middle;\n",
              "    }\n",
              "\n",
              "    .dataframe tbody tr th {\n",
              "        vertical-align: top;\n",
              "    }\n",
              "\n",
              "    .dataframe thead th {\n",
              "        text-align: right;\n",
              "    }\n",
              "</style>\n",
              "<table border=\"1\" class=\"dataframe\">\n",
              "  <thead>\n",
              "    <tr style=\"text-align: right;\">\n",
              "      <th></th>\n",
              "      <th>Close</th>\n",
              "      <th>Predictions</th>\n",
              "    </tr>\n",
              "    <tr>\n",
              "      <th>Date</th>\n",
              "      <th></th>\n",
              "      <th></th>\n",
              "    </tr>\n",
              "  </thead>\n",
              "  <tbody>\n",
              "    <tr>\n",
              "      <th>2019-08-01</th>\n",
              "      <td>3.840000</td>\n",
              "      <td>7.653894</td>\n",
              "    </tr>\n",
              "    <tr>\n",
              "      <th>2019-08-02</th>\n",
              "      <td>3.780000</td>\n",
              "      <td>7.631361</td>\n",
              "    </tr>\n",
              "    <tr>\n",
              "      <th>2019-08-05</th>\n",
              "      <td>3.710000</td>\n",
              "      <td>7.596527</td>\n",
              "    </tr>\n",
              "    <tr>\n",
              "      <th>2019-08-06</th>\n",
              "      <td>3.810000</td>\n",
              "      <td>7.552644</td>\n",
              "    </tr>\n",
              "    <tr>\n",
              "      <th>2019-08-07</th>\n",
              "      <td>3.810000</td>\n",
              "      <td>7.521419</td>\n",
              "    </tr>\n",
              "    <tr>\n",
              "      <th>...</th>\n",
              "      <td>...</td>\n",
              "      <td>...</td>\n",
              "    </tr>\n",
              "    <tr>\n",
              "      <th>2021-03-17</th>\n",
              "      <td>209.809998</td>\n",
              "      <td>161.753906</td>\n",
              "    </tr>\n",
              "    <tr>\n",
              "      <th>2021-03-18</th>\n",
              "      <td>201.750000</td>\n",
              "      <td>158.080093</td>\n",
              "    </tr>\n",
              "    <tr>\n",
              "      <th>2021-03-19</th>\n",
              "      <td>200.270004</td>\n",
              "      <td>153.278534</td>\n",
              "    </tr>\n",
              "    <tr>\n",
              "      <th>2021-03-22</th>\n",
              "      <td>194.490005</td>\n",
              "      <td>148.525726</td>\n",
              "    </tr>\n",
              "    <tr>\n",
              "      <th>2021-03-23</th>\n",
              "      <td>181.750000</td>\n",
              "      <td>143.933640</td>\n",
              "    </tr>\n",
              "  </tbody>\n",
              "</table>\n",
              "<p>414 rows × 2 columns</p>\n",
              "</div>"
            ],
            "text/plain": [
              "                 Close  Predictions\n",
              "Date                               \n",
              "2019-08-01    3.840000     7.653894\n",
              "2019-08-02    3.780000     7.631361\n",
              "2019-08-05    3.710000     7.596527\n",
              "2019-08-06    3.810000     7.552644\n",
              "2019-08-07    3.810000     7.521419\n",
              "...                ...          ...\n",
              "2021-03-17  209.809998   161.753906\n",
              "2021-03-18  201.750000   158.080093\n",
              "2021-03-19  200.270004   153.278534\n",
              "2021-03-22  194.490005   148.525726\n",
              "2021-03-23  181.750000   143.933640\n",
              "\n",
              "[414 rows x 2 columns]"
            ]
          },
          "metadata": {
            "tags": []
          },
          "execution_count": 13
        }
      ]
    },
    {
      "cell_type": "code",
      "metadata": {
        "colab": {
          "base_uri": "https://localhost:8080/"
        },
        "id": "tY8Pi_CnKGEg",
        "outputId": "8d9a3946-89fb-402c-bb7a-cf57e29595f1"
      },
      "source": [
        "quote = web.DataReader('AAPL', data_source = 'yahoo', start = '2013-01-01', end = '2021-03-03')\n",
        "new_df = quote.filter(['Close'])\n",
        "\n",
        "# Last 60 days of data\n",
        "last_60 = new_df[-60:]\n",
        "\n",
        "# Scale Data\n",
        "last_60_scaled = scaler.fit_transform(last_60)\n",
        "\n",
        "# Test data\n",
        "x_last_60 = []\n",
        "x_last_60.append(last_60_scaled)\n",
        "\n",
        "# Convert and reshape\n",
        "x_last_60 = np.array(x_last_60)\n",
        "x_last_60 = np.reshape(x_last_60, (x_last_60.shape[0], x_last_60.shape[1], 1))\n",
        "\n",
        "prediction_price = model.predict(x_last_60)\n",
        "prediction_price = scaler.inverse_transform(prediction_price)\n",
        "\n",
        "prediction_price"
      ],
      "execution_count": 14,
      "outputs": [
        {
          "output_type": "execute_result",
          "data": {
            "text/plain": [
              "array([[123.30262]], dtype=float32)"
            ]
          },
          "metadata": {
            "tags": []
          },
          "execution_count": 14
        }
      ]
    }
  ]
}